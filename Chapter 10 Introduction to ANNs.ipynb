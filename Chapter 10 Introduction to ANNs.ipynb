{
 "cells": [
  {
   "cell_type": "markdown",
   "metadata": {},
   "source": [
    "# Chapter 10: Introduction to Artificial Neural Networks.\n",
    "\n",
    "This from the Hands on Machine Learning with Scikit Learn and Tensorflow book by Aurelien Geron.\n",
    "\n",
    "This notebook will be how to build and test an Image Classifier and a Regressor using an Artificial Neural Network and the data set to be used, will be the Fashion MNIST dataset. The framework used to build the NN will be Tensorflow.Keras"
   ]
  },
  {
   "cell_type": "code",
   "execution_count": 1,
   "metadata": {},
   "outputs": [
    {
     "name": "stderr",
     "output_type": "stream",
     "text": [
      "In C:\\Users\\Siya\\Anaconda3\\lib\\site-packages\\matplotlib\\mpl-data\\stylelib\\_classic_test.mplstyle: \n",
      "The text.latex.preview rcparam was deprecated in Matplotlib 3.3 and will be removed two minor releases later.\n",
      "In C:\\Users\\Siya\\Anaconda3\\lib\\site-packages\\matplotlib\\mpl-data\\stylelib\\_classic_test.mplstyle: \n",
      "The mathtext.fallback_to_cm rcparam was deprecated in Matplotlib 3.3 and will be removed two minor releases later.\n",
      "In C:\\Users\\Siya\\Anaconda3\\lib\\site-packages\\matplotlib\\mpl-data\\stylelib\\_classic_test.mplstyle: Support for setting the 'mathtext.fallback_to_cm' rcParam is deprecated since 3.3 and will be removed two minor releases later; use 'mathtext.fallback : 'cm' instead.\n",
      "In C:\\Users\\Siya\\Anaconda3\\lib\\site-packages\\matplotlib\\mpl-data\\stylelib\\_classic_test.mplstyle: \n",
      "The validate_bool_maybe_none function was deprecated in Matplotlib 3.3 and will be removed two minor releases later.\n",
      "In C:\\Users\\Siya\\Anaconda3\\lib\\site-packages\\matplotlib\\mpl-data\\stylelib\\_classic_test.mplstyle: \n",
      "The savefig.jpeg_quality rcparam was deprecated in Matplotlib 3.3 and will be removed two minor releases later.\n",
      "In C:\\Users\\Siya\\Anaconda3\\lib\\site-packages\\matplotlib\\mpl-data\\stylelib\\_classic_test.mplstyle: \n",
      "The keymap.all_axes rcparam was deprecated in Matplotlib 3.3 and will be removed two minor releases later.\n",
      "In C:\\Users\\Siya\\Anaconda3\\lib\\site-packages\\matplotlib\\mpl-data\\stylelib\\_classic_test.mplstyle: \n",
      "The animation.avconv_path rcparam was deprecated in Matplotlib 3.3 and will be removed two minor releases later.\n",
      "In C:\\Users\\Siya\\Anaconda3\\lib\\site-packages\\matplotlib\\mpl-data\\stylelib\\_classic_test.mplstyle: \n",
      "The animation.avconv_args rcparam was deprecated in Matplotlib 3.3 and will be removed two minor releases later.\n"
     ]
    }
   ],
   "source": [
    "# Import Dependencies\n",
    "\n",
    "import numpy as np\n",
    "import pandas as pd\n",
    "import seaborn as sns\n",
    "import matplotlib.pyplot as plt\n",
    "import tensorflow as tf\n",
    "from tensorflow import keras\n",
    "from tensorflow.keras.models import Sequential\n",
    "from tensorflow.keras.layers import Dense\n",
    "from tensorflow.keras.layers import Flatten"
   ]
  },
  {
   "cell_type": "code",
   "execution_count": null,
   "metadata": {},
   "outputs": [],
   "source": [
    "tf.__version__ "
   ]
  },
  {
   "cell_type": "markdown",
   "metadata": {},
   "source": [
    "# Classification"
   ]
  },
  {
   "cell_type": "code",
   "execution_count": 2,
   "metadata": {},
   "outputs": [],
   "source": [
    "# Load Dataset\n",
    "fashion_mnist = keras.datasets.fashion_mnist\n",
    "(X_train_full, y_train_full), (X_test, y_test) = fashion_mnist.load_data()"
   ]
  },
  {
   "cell_type": "markdown",
   "metadata": {},
   "source": [
    "### We need to know the structure of the data.\n",
    "\n",
    "- The total dataset has 70 000 instances\n",
    "- The training set has 60 000 instances, while the test set has 10 000 instances.\n",
    "- The images are (28,28) 2D arrays of gray-scale images, with pixels values ranging between 0(White) to 255(Black)."
   ]
  },
  {
   "cell_type": "code",
   "execution_count": null,
   "metadata": {},
   "outputs": [],
   "source": [
    "# Training Set Instance size and Shape\n",
    "print(\"Training Set Instances: \", len(X_train_full))\n",
    "print(\"Training Set Instances: \", len(y_train_full))\n",
    "print(\"Training Set Shape: \", X_train_full.shape)\n",
    "print(\"Training Set Shape: \", y_train_full.shape)"
   ]
  },
  {
   "cell_type": "code",
   "execution_count": null,
   "metadata": {},
   "outputs": [],
   "source": [
    "# Test Set Instance size and Shape\n",
    "print(\"Test Set Instances: \", len(X_test))\n",
    "print(\"Test Set Instances: \", len(y_test))\n",
    "print(\"Test Set Shape: \", X_test.shape)\n",
    "print(\"Test Set Shape: \", y_test.shape)"
   ]
  },
  {
   "cell_type": "markdown",
   "metadata": {},
   "source": [
    "Great, so we have our training and test sets. However, we need our validation set. We will get it from the training set. And use 5000 instances as our validation set"
   ]
  },
  {
   "cell_type": "code",
   "execution_count": 3,
   "metadata": {},
   "outputs": [],
   "source": [
    "X_valid, X_train = X_train_full[:5000]/255.0, X_train_full[5000:]/255.0 # We are dividing by 255.0 to scale our pixel values to a range between 0-1and make them floats\n",
    "y_valid, y_train = y_train_full[:5000], y_train_full[5000:]"
   ]
  },
  {
   "cell_type": "code",
   "execution_count": null,
   "metadata": {},
   "outputs": [],
   "source": [
    "print(y_train[0])\n",
    "plt.imshow(X_train[0])"
   ]
  },
  {
   "cell_type": "code",
   "execution_count": null,
   "metadata": {},
   "outputs": [],
   "source": [
    "# Lets show an image from every class and together with its label:\n",
    "fig = plt.figure(figsize = (15,15))\n",
    "\n",
    "for i in range(0, 50, 1):\n",
    "    ax =fig.add_subplot(10, 5, i+1)\n",
    "    image = plt.imshow(X_train[i])\n",
    "    ax.set_title(y_train[i])\n",
    "\n",
    "fig.subplots_adjust(hspace=0.6)"
   ]
  },
  {
   "cell_type": "code",
   "execution_count": 4,
   "metadata": {},
   "outputs": [],
   "source": [
    "# Now we need a list of all the categories we will be dealing with. We can deduce this from the plot above and also from\n",
    "# The following link: https://towardsdatascience.com/multi-label-classification-and-class-activation-map-on-fashion-mnist-1454f09f5925\n",
    "\n",
    "\n",
    "class_names = [\"T-shirt/top\", \"Trouser\", \"Pullover\", \"Dress\", \"Coat\",\n",
    "\"Sandal\", \"Shirt\", \"Sneaker\", \"Bag\", \"Ankle boot\"]"
   ]
  },
  {
   "cell_type": "code",
   "execution_count": null,
   "metadata": {},
   "outputs": [],
   "source": [
    "for i in range(10):\n",
    "    print(class_names[y_train[i]])"
   ]
  },
  {
   "cell_type": "code",
   "execution_count": null,
   "metadata": {},
   "outputs": [],
   "source": [
    "fig = plt.figure(figsize = (15, 15))\n",
    "\n",
    "for i in range(0, 10, 1):\n",
    "    ax = fig.add_subplot(2, 5, i+1)\n",
    "    image = plt.imshow(X_train[i])\n",
    "    ax.set_title(class_names[y_train[i]])\n",
    "    \n",
    "fig.subplots_adjust(hspace = -0.7)"
   ]
  },
  {
   "cell_type": "markdown",
   "metadata": {},
   "source": [
    "### Now we can build the Neural Network\n",
    "\n",
    "We will build the Neural Network, by adding the layers Sequentiallm, by using the Sequential class from the keras api\n",
    "We will use 1 Flattening Layer as our input layer\n",
    "We will use 2 Hidden Dense layers and  Dense Output later"
   ]
  },
  {
   "cell_type": "code",
   "execution_count": 5,
   "metadata": {},
   "outputs": [
    {
     "name": "stdout",
     "output_type": "stream",
     "text": [
      "Model: \"sequential\"\n",
      "_________________________________________________________________\n",
      "Layer (type)                 Output Shape              Param #   \n",
      "=================================================================\n",
      "flatten (Flatten)            (None, 784)               0         \n",
      "_________________________________________________________________\n",
      "dense (Dense)                (None, 300)               235500    \n",
      "_________________________________________________________________\n",
      "dense_1 (Dense)              (None, 150)               45150     \n",
      "_________________________________________________________________\n",
      "dense_2 (Dense)              (None, 75)                11325     \n",
      "_________________________________________________________________\n",
      "dense_3 (Dense)              (None, 10)                760       \n",
      "=================================================================\n",
      "Total params: 292,735\n",
      "Trainable params: 292,735\n",
      "Non-trainable params: 0\n",
      "_________________________________________________________________\n"
     ]
    }
   ],
   "source": [
    "model = Sequential()\n",
    "model.add(Flatten(input_shape = [28,28])) #Input Layer\n",
    "model.add(Dense(units = 300, activation = \"relu\")) # First Hidden Layer\n",
    "model.add(Dense(units = 150, activation = \"relu\")) # Second Hidden Layer\n",
    "model.add(Dense(units = 75, activation =\"relu\")) # Third Hidden Layer\n",
    "model.add(Dense(units = 10, activation = \"softmax\")) # Output Layer \n",
    "model.summary()"
   ]
  },
  {
   "cell_type": "markdown",
   "metadata": {},
   "source": [
    "## Now we compile the network\n",
    "\n",
    "Now that we have created the model architecture, we can compile it, by call the `compile()`method.\n",
    "The method takes three arguments:\n",
    "1. loss function, which will be the `sparse_cateorical_crossentropy`\n",
    "2. optimizer, which can be `SGD` or `Adam`. The Keras API has more optimizers\n",
    "3. metrics, which is `accuracy`, again, for more metrics, one can review the Keras API docs."
   ]
  },
  {
   "cell_type": "code",
   "execution_count": 6,
   "metadata": {},
   "outputs": [],
   "source": [
    "model.compile(loss = 'sparse_categorical_crossentropy', optimizer = 'adam', metrics = ['accuracy'])"
   ]
  },
  {
   "cell_type": "markdown",
   "metadata": {},
   "source": [
    "## Now lets train the network\n",
    "\n",
    "To train the model, one can call the `fit()` method.\n",
    "The function takes a couple of arguments, which are stipulated in the documentation on Keras API.\n",
    "\n",
    "However, for this notebook, we will the following arguments:\n",
    "\n",
    "1. X_train: Feature_Matrix with the pixel values for each instance(picture)\n",
    "2. y_train: The target labels vector.\n",
    "3. epochs: The number of epochs the model will be trained on.\n",
    "4. validation_data = (X_valid, y_valid), the validation sets"
   ]
  },
  {
   "cell_type": "code",
   "execution_count": 7,
   "metadata": {},
   "outputs": [
    {
     "name": "stdout",
     "output_type": "stream",
     "text": [
      "Train on 55000 samples, validate on 5000 samples\n",
      "Epoch 1/30\n",
      "55000/55000 [==============================] - 13s 235us/sample - loss: 0.4929 - accuracy: 0.8206 - val_loss: 0.3997 - val_accuracy: 0.8534\n",
      "Epoch 2/30\n",
      "55000/55000 [==============================] - 9s 165us/sample - loss: 0.3721 - accuracy: 0.8633 - val_loss: 0.3475 - val_accuracy: 0.8766\n",
      "Epoch 3/30\n",
      "55000/55000 [==============================] - 9s 170us/sample - loss: 0.3355 - accuracy: 0.8758 - val_loss: 0.3345 - val_accuracy: 0.8768\n",
      "Epoch 4/30\n",
      "55000/55000 [==============================] - 9s 168us/sample - loss: 0.3106 - accuracy: 0.8842 - val_loss: 0.3223 - val_accuracy: 0.8798\n",
      "Epoch 5/30\n",
      "55000/55000 [==============================] - 9s 165us/sample - loss: 0.2923 - accuracy: 0.8901 - val_loss: 0.3029 - val_accuracy: 0.8856\n",
      "Epoch 6/30\n",
      "55000/55000 [==============================] - 9s 166us/sample - loss: 0.2764 - accuracy: 0.8959 - val_loss: 0.3159 - val_accuracy: 0.8806\n",
      "Epoch 7/30\n",
      "55000/55000 [==============================] - 9s 169us/sample - loss: 0.2626 - accuracy: 0.9012 - val_loss: 0.3013 - val_accuracy: 0.8926\n",
      "Epoch 8/30\n",
      "55000/55000 [==============================] - 9s 166us/sample - loss: 0.2516 - accuracy: 0.9041 - val_loss: 0.3292 - val_accuracy: 0.8822\n",
      "Epoch 9/30\n",
      "55000/55000 [==============================] - 9s 168us/sample - loss: 0.2426 - accuracy: 0.9088 - val_loss: 0.2937 - val_accuracy: 0.8938\n",
      "Epoch 10/30\n",
      "55000/55000 [==============================] - 9s 167us/sample - loss: 0.2325 - accuracy: 0.9116 - val_loss: 0.3261 - val_accuracy: 0.8896\n",
      "Epoch 11/30\n",
      "55000/55000 [==============================] - 9s 169us/sample - loss: 0.2260 - accuracy: 0.9137 - val_loss: 0.2994 - val_accuracy: 0.8964\n",
      "Epoch 12/30\n",
      "55000/55000 [==============================] - 9s 167us/sample - loss: 0.2162 - accuracy: 0.9179 - val_loss: 0.3063 - val_accuracy: 0.8938\n",
      "Epoch 13/30\n",
      "55000/55000 [==============================] - 9s 167us/sample - loss: 0.2084 - accuracy: 0.9197 - val_loss: 0.3312 - val_accuracy: 0.8906\n",
      "Epoch 14/30\n",
      "55000/55000 [==============================] - 9s 168us/sample - loss: 0.2021 - accuracy: 0.9232 - val_loss: 0.3408 - val_accuracy: 0.8858\n",
      "Epoch 15/30\n",
      "55000/55000 [==============================] - 9s 166us/sample - loss: 0.1961 - accuracy: 0.9238 - val_loss: 0.3127 - val_accuracy: 0.8922\n",
      "Epoch 16/30\n",
      "55000/55000 [==============================] - 9s 169us/sample - loss: 0.1900 - accuracy: 0.9274 - val_loss: 0.3095 - val_accuracy: 0.9020\n",
      "Epoch 17/30\n",
      "55000/55000 [==============================] - 9s 170us/sample - loss: 0.1836 - accuracy: 0.9291 - val_loss: 0.3246 - val_accuracy: 0.8926\n",
      "Epoch 18/30\n",
      "55000/55000 [==============================] - 9s 168us/sample - loss: 0.1792 - accuracy: 0.9318 - val_loss: 0.3226 - val_accuracy: 0.8954\n",
      "Epoch 19/30\n",
      "55000/55000 [==============================] - 9s 167us/sample - loss: 0.1742 - accuracy: 0.9334 - val_loss: 0.3514 - val_accuracy: 0.8894\n",
      "Epoch 20/30\n",
      "55000/55000 [==============================] - 9s 167us/sample - loss: 0.1697 - accuracy: 0.9339 - val_loss: 0.3559 - val_accuracy: 0.8984\n",
      "Epoch 21/30\n",
      "55000/55000 [==============================] - 9s 168us/sample - loss: 0.1651 - accuracy: 0.9377 - val_loss: 0.3422 - val_accuracy: 0.8980\n",
      "Epoch 22/30\n",
      "55000/55000 [==============================] - 9s 168us/sample - loss: 0.1617 - accuracy: 0.9371 - val_loss: 0.3679 - val_accuracy: 0.8908\n",
      "Epoch 23/30\n",
      "55000/55000 [==============================] - 9s 169us/sample - loss: 0.1579 - accuracy: 0.9399 - val_loss: 0.3658 - val_accuracy: 0.9030\n",
      "Epoch 24/30\n",
      "55000/55000 [==============================] - 9s 169us/sample - loss: 0.1551 - accuracy: 0.9414 - val_loss: 0.3855 - val_accuracy: 0.8936\n",
      "Epoch 25/30\n",
      "55000/55000 [==============================] - 9s 168us/sample - loss: 0.1499 - accuracy: 0.9414 - val_loss: 0.3500 - val_accuracy: 0.8976\n",
      "Epoch 26/30\n",
      "55000/55000 [==============================] - 9s 169us/sample - loss: 0.1477 - accuracy: 0.9416 - val_loss: 0.3503 - val_accuracy: 0.8986\n",
      "Epoch 27/30\n",
      "55000/55000 [==============================] - 10s 174us/sample - loss: 0.1421 - accuracy: 0.9452 - val_loss: 0.3750 - val_accuracy: 0.8972\n",
      "Epoch 28/30\n",
      "55000/55000 [==============================] - 9s 171us/sample - loss: 0.1399 - accuracy: 0.9452 - val_loss: 0.4475 - val_accuracy: 0.8954\n",
      "Epoch 29/30\n",
      "55000/55000 [==============================] - 10s 173us/sample - loss: 0.1349 - accuracy: 0.9479 - val_loss: 0.4045 - val_accuracy: 0.8996\n",
      "Epoch 30/30\n",
      "55000/55000 [==============================] - 9s 167us/sample - loss: 0.1338 - accuracy: 0.9484 - val_loss: 0.4255 - val_accuracy: 0.8974\n"
     ]
    }
   ],
   "source": [
    "# Note: Always create an object, when traning the model to get some very valuable information, wwe will discuss later\n",
    "\n",
    "history = model.fit(X_train, y_train, epochs = 30, validation_data = (X_valid, y_valid))"
   ]
  },
  {
   "cell_type": "code",
   "execution_count": null,
   "metadata": {},
   "outputs": [],
   "source": [
    "# Training Parameters:\n",
    "history.params"
   ]
  },
  {
   "cell_type": "markdown",
   "metadata": {},
   "source": [
    "#### About the History Object:\n",
    "\n",
    "The history object returns the following:\n",
    "\n",
    "1. Training Paramters(Weight Connectionsfor each layer) by calling: `history.params`\n",
    "2. A list of the epochs by calling: `history.epoch`\n",
    "3. A dictionary containing the loss and extra metrics measured at the end of each epoch on the training and validation set, by calling `history.history`\n",
    "\n",
    "Note: The dictionary can be converted to a dataframe and then plotted to get the learning curves of the models. (We can view how the model performs oer the epoch range.\n"
   ]
  },
  {
   "cell_type": "code",
   "execution_count": 8,
   "metadata": {},
   "outputs": [
    {
     "data": {
      "image/png": "[encoded data removed]",
      "text/plain": [
       "<Figure size 576x360 with 1 Axes>"
      ]
     },
     "metadata": {
      "needs_background": "light"
     },
     "output_type": "display_data"
    }
   ],
   "source": [
    "pd.DataFrame(history.history).plot(figsize = (8,5))\n",
    "plt.grid(True)\n",
    "plt.gca().set_ylim(0, 1)\n",
    "plt.title(\"Model Performance Plots\")\n",
    "plt.xlabel(\"Epoch\")\n",
    "plt.show()"
   ]
  },
  {
   "cell_type": "markdown",
   "metadata": {},
   "source": [
    "From the performance plot, we can see that the model is overfitted. The validation loss is waay higher than the training loss. Secondly,the validation accuracy has plateued around 89%. So we cn try a different optimizer, such as Stochastic Gradient Descent, with a default learning rate of 0.01."
   ]
  },
  {
   "cell_type": "markdown",
   "metadata": {},
   "source": [
    "#### Notes about Performance:\n",
    "\n",
    "If you are not satisfied with the performance of the model, there are a couple of things you can do:\n",
    "\n",
    "1. Add more epochs or call the .fit() method again.\n",
    "2. Tune the hyperparameters:\n",
    "    a. Change the learning rate\n",
    "    b. Try a different optimizer\n",
    "3. Tune the model hyperparameters:\n",
    "    a. Change the no of layers\n",
    "    b. Change the no of neurons per layer\n",
    "    c. Change the type of activation functions used in layers.\n",
    "\n",
    "Once satisfied with the performance, we can evaulate the model, which is next step."
   ]
  },
  {
   "cell_type": "markdown",
   "metadata": {},
   "source": [
    "## Evaulate the model:\n",
    "\n",
    "Once satisfied with the model performance,we can evaluate the model on the test sets by calling the `evaluate()` method, with inputs being X_test and y_test.\n",
    "\n",
    "Also Note: It might be a good idea to set aside a small section of X_test and y_test to use for predictions.\n",
    "\n",
    "This small X_test section will be the input to the `predict()` method, and the predictions will be compared to the small section of the y_test. and see how well our model did, on data it has not seen before."
   ]
  },
  {
   "cell_type": "code",
   "execution_count": null,
   "metadata": {},
   "outputs": [],
   "source": [
    "# Get a small section from the test set\n",
    "X_new, X_test_1 = X_test[:10], X_test[10:]\n",
    "y_compare, y_test_1 = y_test[:10], y_test[10:]\n",
    "\n",
    "#Evaulate the model on the test\n",
    "model.evaluate(X_test_1, y_test_1)"
   ]
  },
  {
   "cell_type": "code",
   "execution_count": null,
   "metadata": {},
   "outputs": [],
   "source": [
    "# Make some Predictions\n",
    "\n",
    "predictions = model.predict(X_new)\n",
    "predictions.round(3)"
   ]
  },
  {
   "cell_type": "code",
   "execution_count": null,
   "metadata": {},
   "outputs": [],
   "source": [
    "prediction_class = model.predict_classes(X_new)\n",
    "np.array(class_names)[prediction_class]"
   ]
  },
  {
   "cell_type": "code",
   "execution_count": null,
   "metadata": {},
   "outputs": [],
   "source": [
    "y_compare"
   ]
  },
  {
   "cell_type": "code",
   "execution_count": null,
   "metadata": {},
   "outputs": [],
   "source": [
    "np.array(class_names)[y_compare]"
   ]
  },
  {
   "cell_type": "markdown",
   "metadata": {},
   "source": [
    "# Regression\n",
    "\n",
    "For this part of the notebook, we will build a regressor using the Sequential() API and train and evaluate it on the California Housing Data. I will downloaded the housing data already, when I went through Chapter 2.We will recreate the transformations and there will be no EDA."
   ]
  },
  {
   "cell_type": "code",
   "execution_count": null,
   "metadata": {},
   "outputs": [],
   "source": [
    "# load data\n",
    "\n",
    "housing_data = pd.read_csv(\"housing.csv\")"
   ]
  },
  {
   "cell_type": "code",
   "execution_count": null,
   "metadata": {},
   "outputs": [],
   "source": [
    "housing_data.head()"
   ]
  },
  {
   "cell_type": "code",
   "execution_count": null,
   "metadata": {},
   "outputs": [],
   "source": [
    "housing_data.info()"
   ]
  },
  {
   "cell_type": "code",
   "execution_count": null,
   "metadata": {},
   "outputs": [],
   "source": [
    "# Split the data into training and test set. We will use the train_test_split class for this notebook\n",
    "from sklearn.model_selection import train_test_split\n",
    "\n",
    "housing_train, housing_test = train_test_split(housing_data, test_size = 0.2)"
   ]
  },
  {
   "cell_type": "code",
   "execution_count": null,
   "metadata": {},
   "outputs": [],
   "source": [
    "# Get the Feature Matrix and Target vector\n",
    "\n",
    "feature_matrix = housing_train.drop(\"median_house_value\", axis = 1)\n",
    "target_vector = housing_train[\"median_house_value\"]\n",
    "target_vector = target_vector/100000.0"
   ]
  },
  {
   "cell_type": "code",
   "execution_count": null,
   "metadata": {},
   "outputs": [],
   "source": [
    "feature_matrix_train, feature_matrix_valid, target_vector_train, target_vector_valid = train_test_split(feature_matrix, target_vector)"
   ]
  },
  {
   "cell_type": "code",
   "execution_count": null,
   "metadata": {},
   "outputs": [],
   "source": [
    "feature_matrix_train.shape"
   ]
  },
  {
   "cell_type": "code",
   "execution_count": null,
   "metadata": {},
   "outputs": [],
   "source": [
    "feature_matrix_valid.shape"
   ]
  },
  {
   "cell_type": "code",
   "execution_count": null,
   "metadata": {},
   "outputs": [],
   "source": [
    "target_vector_train.shape"
   ]
  },
  {
   "cell_type": "code",
   "execution_count": null,
   "metadata": {},
   "outputs": [],
   "source": [
    "target_vector_valid.shape"
   ]
  },
  {
   "cell_type": "code",
   "execution_count": null,
   "metadata": {},
   "outputs": [],
   "source": [
    "# Create a pipeline to do all the transformations:\n",
    "\n",
    "from sklearn.pipeline import Pipeline\n",
    "from sklearn.preprocessing import StandardScaler\n",
    "from sklearn.impute import SimpleImputer\n",
    "from sklearn.compose import ColumnTransformer\n",
    "from sklearn.preprocessing import OneHotEncoder\n",
    "from sklearn.preprocessing import Normalizer\n",
    "\n",
    "# Create a pipeline to do numerical transformations\n",
    "num_pipeline = Pipeline(\n",
    "    [(\"imputer\", SimpleImputer(strategy = \"median\")), \n",
    "     (\"norm\", Normalizer())])\n",
    "\n",
    "# Create a Column Transformer to encode categorical data\n",
    "num_features = feature_matrix.drop(\"ocean_proximity\", axis = 1) # Get the numerical features only\n",
    "num_attr = list(num_features) # Get the names of the numerical features \n",
    "\n",
    "cat_attr = [\"ocean_proximity\"] # Get the names of the Ocean_Proximity categories\n",
    "\n",
    "# Column Transformer, takes a list of dictionaries as an input\n",
    "#Dictionary Structure: {name, transformer, columns}\n",
    "# Since we are using a pipeline, its better to get the column names for the columns key\n",
    "# Recall, we will use the pipeline to fit and transform the data\n",
    "\n",
    "full_pipeline = ColumnTransformer([\n",
    "    (\"num\", num_pipeline, num_attr), \n",
    "    (\"cat\", OneHotEncoder(), cat_attr)\n",
    "                                  ])"
   ]
  },
  {
   "cell_type": "code",
   "execution_count": null,
   "metadata": {},
   "outputs": [],
   "source": [
    "feature_matrix_valid,feature_matrix_train = full_pipeline.fit_transform(feature_matrix_valid), full_pipeline.fit_transform(feature_matrix_train)"
   ]
  },
  {
   "cell_type": "code",
   "execution_count": null,
   "metadata": {},
   "outputs": [],
   "source": [
    "feature_matrix_train.shape"
   ]
  },
  {
   "cell_type": "code",
   "execution_count": null,
   "metadata": {},
   "outputs": [],
   "source": [
    "feature_matrix_train"
   ]
  },
  {
   "cell_type": "code",
   "execution_count": null,
   "metadata": {},
   "outputs": [],
   "source": [
    "feature_matrix_valid.shape"
   ]
  },
  {
   "cell_type": "code",
   "execution_count": null,
   "metadata": {},
   "outputs": [],
   "source": [
    "target_vector_train.shape"
   ]
  },
  {
   "cell_type": "code",
   "execution_count": null,
   "metadata": {},
   "outputs": [],
   "source": [
    "target_vector_valid.shape"
   ]
  },
  {
   "cell_type": "code",
   "execution_count": null,
   "metadata": {},
   "outputs": [],
   "source": [
    "Input_shape = feature_matrix_train.shape[1:] # Just get the number of features as our input shape."
   ]
  },
  {
   "cell_type": "code",
   "execution_count": null,
   "metadata": {},
   "outputs": [],
   "source": [
    "Input_shape"
   ]
  },
  {
   "cell_type": "code",
   "execution_count": null,
   "metadata": {},
   "outputs": [],
   "source": [
    "# Now that the transformations, we can build the NN structurer\n",
    "\n",
    "regressor = Sequential()\n",
    "regressor.add(Dense(units = 30, activation = 'relu', input_shape = Input_shape)) # 1 Hidden Layer with 30 neurons\n",
    "regressor.add(Dense(units = 1)) # One output neuron, since we just want to predict the median house value\n",
    "regressor.summary()"
   ]
  },
  {
   "cell_type": "code",
   "execution_count": null,
   "metadata": {},
   "outputs": [],
   "source": [
    "# Compile the model\n",
    "\n",
    "regressor.compile(loss = \"mean_absolute_error\", optimizer = \"sgd\")"
   ]
  },
  {
   "cell_type": "code",
   "execution_count": null,
   "metadata": {},
   "outputs": [],
   "source": [
    "# Train the regressor\n",
    "\n",
    "history_1 = regressor.fit(feature_matrix_train, target_vector_train, epochs = 50, validation_data = (feature_matrix_valid, target_vector_valid))"
   ]
  },
  {
   "cell_type": "code",
   "execution_count": null,
   "metadata": {},
   "outputs": [],
   "source": [
    "history_1.history"
   ]
  },
  {
   "cell_type": "code",
   "execution_count": null,
   "metadata": {
    "scrolled": true
   },
   "outputs": [],
   "source": [
    "pd.DataFrame(history_1.history).plot(figsize = (8,5))\n",
    "plt.grid(True)\n",
    "\n",
    "plt.title(\"Model Performance Plots\")\n",
    "plt.xlabel(\"Epoch\")\n",
    "plt.show()"
   ]
  },
  {
   "cell_type": "markdown",
   "metadata": {},
   "source": [
    "# Building Complex Models using Functional API\n",
    "\n",
    "Unitl now, we have using the Sequential() API to build our NNs. However, this is rather limiting as we cannot build complex models of differet architctures. One way to do this is is to use the Functional API, instead of the Sequential API. Lets find out how it works below:\n"
   ]
  },
  {
   "attachments": {
    "Wide%20and%20Deep%20NN%20topology.PNG": {
     "image/png": "[encoded data removed]"
    }
   },
   "cell_type": "markdown",
   "metadata": {},
   "source": [
    "### 1. Wide & Deep NN Architecture\n",
    "\n",
    "This topology has two paths. A deep path and a wide path. The deep path is used so that the NN can learn deep patterns in the data, and the wide path is for the simple rules in the data. \n",
    "\n",
    "This inhibits the simple rules in the data from being distorted, as is usually the case, when Sequential API is used, since layers are sequentially stacked, and data flows in 1 direction. The topology is shown below:\n",
    "\n",
    "![Wide%20and%20Deep%20NN%20topology.PNG](attachment:Wide%20and%20Deep%20NN%20topology.PNG)"
   ]
  },
  {
   "cell_type": "code",
   "execution_count": null,
   "metadata": {},
   "outputs": [],
   "source": [
    "housing = pd.read_csv(\"housing.csv\")\n",
    "housing = housing.drop(\"ocean_proximity\", axis = 1)\n",
    "housing.head()"
   ]
  },
  {
   "cell_type": "code",
   "execution_count": null,
   "metadata": {},
   "outputs": [],
   "source": [
    "housing.info()"
   ]
  },
  {
   "cell_type": "code",
   "execution_count": null,
   "metadata": {},
   "outputs": [],
   "source": [
    "feature_matrix = housing.drop(\"median_house_value\", axis = 1)\n",
    "target_vector = housing[\"median_house_value\"]\n",
    "target_vector = target_vector/100000.0"
   ]
  },
  {
   "cell_type": "code",
   "execution_count": null,
   "metadata": {},
   "outputs": [],
   "source": [
    "feature_matrix.columns"
   ]
  },
  {
   "cell_type": "markdown",
   "metadata": {},
   "source": [
    "##### sns.distplot(target_vector)\n"
   ]
  },
  {
   "cell_type": "code",
   "execution_count": null,
   "metadata": {},
   "outputs": [],
   "source": [
    "# Lets split the data and do some transformations\n",
    "# Split the data into train and test sets\n",
    "from sklearn.model_selection import train_test_split\n",
    "X_train_full, X_test, y_train_full, y_test = train_test_split(\n",
    "feature_matrix, target_vector)\n",
    "# Get the validation sets\n",
    "X_train, X_valid, y_train, y_valid = train_test_split(\n",
    "X_train_full, y_train_full)\n",
    "\n",
    "from sklearn.preprocessing import StandardScaler\n",
    "from sklearn.impute import  SimpleImputer\n",
    "from sklearn.preprocessing import Normalizer\n",
    "\n",
    "#Impute Missing Values\n",
    "imputer = SimpleImputer(strategy = \"mean\")\n",
    "X_train = imputer.fit_transform(X_train)\n",
    "X_valid = imputer.transform(X_valid)\n",
    "X_test = imputer.transform(X_test)\n",
    "\n",
    "# Scale the Features\n",
    "scaler = StandardScaler()\n",
    "X_train = scaler.fit_transform(X_train)\n",
    "X_valid = scaler.transform(X_valid)\n",
    "X_test = scaler.transform(X_test)"
   ]
  },
  {
   "cell_type": "code",
   "execution_count": null,
   "metadata": {},
   "outputs": [],
   "source": [
    "Input_shape = X_train.shape[1:]"
   ]
  },
  {
   "cell_type": "code",
   "execution_count": null,
   "metadata": {},
   "outputs": [],
   "source": [
    "print(X_valid.shape[1:])"
   ]
  },
  {
   "cell_type": "code",
   "execution_count": null,
   "metadata": {},
   "outputs": [],
   "source": [
    "print(X_test.shape[1:])"
   ]
  },
  {
   "cell_type": "code",
   "execution_count": null,
   "metadata": {},
   "outputs": [],
   "source": [
    "Input_shape"
   ]
  },
  {
   "cell_type": "code",
   "execution_count": null,
   "metadata": {},
   "outputs": [],
   "source": [
    "# Lets build the model\n",
    "from tensorflow.keras import Model\n",
    "from tensorflow.keras.layers import Concatenate\n",
    "from tensorflow.keras import Input\n",
    "\n",
    "input_ = Input(shape = Input_shape) # Input Layer\n",
    "hidden_1 = Dense(units = 60, activation = 'relu')(input_)# Pass the input layer output through our first hidden layer\n",
    "hidden_2 = Dense(units = 30, activation = \"relu\")(hidden_1)\n",
    "concat = Concatenate()([input_, hidden_2])# Pass the hidden_1 layer output through our second hidden layer\n",
    "output = Dense(units = 1)(concat)\n",
    "\n",
    "model = Model(inputs = input_, outputs = output)\n",
    "model.summary()"
   ]
  },
  {
   "cell_type": "code",
   "execution_count": null,
   "metadata": {},
   "outputs": [],
   "source": [
    "from tensorflow.keras.optimizers import SGD\n",
    "model.compile(loss = \"mse\", optimizer = SGD(lr = 1e-3))"
   ]
  },
  {
   "cell_type": "code",
   "execution_count": null,
   "metadata": {},
   "outputs": [],
   "source": [
    "history = model.fit(X_train, y_train, epochs = 50, validation_data = (X_valid, y_valid))"
   ]
  },
  {
   "cell_type": "code",
   "execution_count": null,
   "metadata": {},
   "outputs": [],
   "source": [
    "pd.DataFrame(history.history).plot(figsize = (8, 5))\n",
    "plt.grid(True)\n",
    "plt.title(\"Regression Wide & Deep Model Performance Plot\")\n",
    "plt.xlabel(\"Epochs\")\n",
    "plt.show()"
   ]
  },
  {
   "cell_type": "code",
   "execution_count": null,
   "metadata": {},
   "outputs": [],
   "source": [
    "### Lets evaluate our new model:\n",
    "X_new, X_test_new = X_test[:5], X_test[5:]\n",
    "y_new, y_test_new = y_test[:5], y_test[5:]\n",
    "model.evaluate(X_test_new, y_test_new)"
   ]
  },
  {
   "cell_type": "code",
   "execution_count": null,
   "metadata": {},
   "outputs": [],
   "source": [
    "predictions_reg = model.predict(X_new)\n",
    "print(predictions_reg*100000)\n",
    "print(y_new*100000)"
   ]
  },
  {
   "cell_type": "code",
   "execution_count": null,
   "metadata": {},
   "outputs": [],
   "source": [
    "from sklearn.datasets import fetch_california_housing\n",
    "housing = fetch_california_housing()\n",
    "X_train_full_1, X_test_1, y_train_full_1, y_test_1 = train_test_split(\n",
    "housing.data, housing.target)\n",
    "X_train_1, X_valid_1, y_train_1, y_valid_1 = train_test_split(\n",
    "X_train_full_1, y_train_full_1)"
   ]
  },
  {
   "cell_type": "code",
   "execution_count": null,
   "metadata": {},
   "outputs": [],
   "source": [
    "housing.data.shape"
   ]
  },
  {
   "cell_type": "code",
   "execution_count": null,
   "metadata": {},
   "outputs": [],
   "source": [
    "sns.distplot(housing.target)"
   ]
  },
  {
   "cell_type": "code",
   "execution_count": null,
   "metadata": {},
   "outputs": [],
   "source": [
    "from sklearn.datasets import fetch_california_housing\n",
    "housing = fetch_california_housing()\n",
    "X_train_full_1, X_test_1, y_train_full_1, y_test_1 = train_test_split(\n",
    "housing.data, housing.target)\n",
    "X_train_1, X_valid_1, y_train_1, y_valid_1 = train_test_split(\n",
    "X_train_full_1, y_train_full_1)\n",
    "scaler = StandardScaler()\n",
    "X_train_1 = scaler.fit_transform(X_train_1)\n",
    "X_valid_1 = scaler.transform(X_valid_1)\n",
    "X_test_1 = scaler.transform(X_test_1)"
   ]
  },
  {
   "cell_type": "code",
   "execution_count": null,
   "metadata": {},
   "outputs": [],
   "source": [
    "X_train_1"
   ]
  },
  {
   "cell_type": "code",
   "execution_count": null,
   "metadata": {},
   "outputs": [],
   "source": [
    "y_train_1"
   ]
  },
  {
   "cell_type": "code",
   "execution_count": null,
   "metadata": {},
   "outputs": [],
   "source": [
    "input_1 = Input(shape = X_train_1.shape[1:]) # Input Layer\n",
    "hidden_1 = Dense(units = 60, activation = 'relu')(input_1)# Pass the input layer output through our first hidden layer\n",
    "hidden_2 = Dense(units = 30, activation = \"relu\")(hidden_1)\n",
    "concat = Concatenate()([input_1, hidden_2])# Pass the hidden_1 layer output through our second hidden layer\n",
    "output = Dense(units = 1)(concat)\n",
    "\n",
    "model_2 = Model(inputs = input_1, outputs = output)\n",
    "model_2.summary()"
   ]
  },
  {
   "cell_type": "code",
   "execution_count": null,
   "metadata": {},
   "outputs": [],
   "source": [
    "model_2.compile(loss = \"mse\", optimizer = SGD(lr = 1e-3))"
   ]
  },
  {
   "cell_type": "code",
   "execution_count": null,
   "metadata": {},
   "outputs": [],
   "source": [
    "history_2 = model_2.fit(X_train_1, y_train_1, epochs = 50, validation_data = (X_valid_1, y_valid_1))"
   ]
  },
  {
   "cell_type": "code",
   "execution_count": null,
   "metadata": {},
   "outputs": [],
   "source": [
    "pd.DataFrame(history_2.history).plot(figsize = (8,5))\n",
    "plt.grid(True)\n",
    "plt.xlabel(\"Epochs\")\n",
    "plt.show()"
   ]
  },
  {
   "attachments": {
    "2%20Inputs%20W&D%20NN%20Topology.PNG": {
     "image/png": "[encoded data removed]"
    }
   },
   "cell_type": "markdown",
   "metadata": {},
   "source": [
    "### 2. Wide & Deep NN Architecture with 2 inputs\n",
    "\n",
    "Will try to incorparate two inputs now, within our NN architecture. The resulting topology is shown below:\n",
    "We will use 5 features for Input_A (0-4) (Wide Path) and 6 features for Input_B (Deep Path)\n",
    "\n",
    "![2%20Inputs%20W&D%20NN%20Topology.PNG](attachment:2%20Inputs%20W&D%20NN%20Topology.PNG)"
   ]
  },
  {
   "cell_type": "code",
   "execution_count": null,
   "metadata": {},
   "outputs": [],
   "source": [
    "# Since we are implementing this topology, we need to make sure that we get the relevant training inputs to fed into the network\n",
    "\n",
    "X_train_A, X_train_B = X_train[:, :5], X_train[:, 2:]\n",
    "X_valid_A, X_valid_B = X_valid[:, :5], X_valid[:, 2:]\n",
    "X_test_A, X_test_B = X_test[:, :5], X_test[:, 2:]"
   ]
  },
  {
   "cell_type": "code",
   "execution_count": null,
   "metadata": {},
   "outputs": [],
   "source": [
    "# Model Architecture\n",
    "\n",
    "input_A =Input(shape = X_train_A.shape[1:]) #Input Layer B\n",
    "input_B =Input(shape = X_train_B.shape[1:]) # Input Layer B\n",
    "hidden_1 = Dense(units = 60, activation = 'relu')(input_B) #Hidden Layer 1\n",
    "hidden_2 = Dense(units = 30, activation = 'relu')(hidden_1) #Hidden Layer 1\n",
    "concat = Concatenate()([input_A, hidden_2]) #Concatenation Layer \n",
    "output = Dense(units = 1)(concat) # Output Layer\n",
    "model_2_inputs = Model(inputs = [input_A, input_B], outputs = output)\n",
    "model_2_inputs.summary()"
   ]
  },
  {
   "cell_type": "code",
   "execution_count": null,
   "metadata": {},
   "outputs": [],
   "source": [
    "# Compile the model\n",
    "model_2_inputs.compile(loss = 'mse', optimizer = SGD(lr = 1e-3))"
   ]
  },
  {
   "cell_type": "code",
   "execution_count": null,
   "metadata": {},
   "outputs": [],
   "source": [
    "# Train model\n",
    "history_2_inputs = model_2_inputs.fit((X_train_A, X_train_B), y_train, epochs = 50, validation_data = ((X_valid_A, X_valid_B), y_valid))"
   ]
  },
  {
   "cell_type": "code",
   "execution_count": null,
   "metadata": {},
   "outputs": [],
   "source": [
    "pd.DataFrame(history_2_inputs.history).plot(figsize = (8,5))\n",
    "plt.grid(True)\n",
    "plt.xlabel(\"Epochs\")\n",
    "plt.title(\"2 Input W&D NN Performance Plots\")\n",
    "plt.show()"
   ]
  },
  {
   "cell_type": "code",
   "execution_count": null,
   "metadata": {},
   "outputs": [],
   "source": [
    "# Evaluate the model:\n",
    "X_test_A_new, X_new_A = X_test_A[5:], X_test_A[:5]\n",
    "X_test_B_new, X_new_B = X_test_B[5:], X_test_B[:5]\n",
    "y_new, y_test_new = y_test[:5], y_test[5:]\n",
    "\n",
    "model_2_inputs.evaluate((X_test_A_new,X_test_B_new ), y_test_new)"
   ]
  },
  {
   "cell_type": "code",
   "execution_count": null,
   "metadata": {},
   "outputs": [],
   "source": [
    "# Lets make some predictions\n",
    "\n",
    "predictions_2_inputs = model_2_inputs.predict((X_new_A, X_new_B))\n",
    "\n",
    "print(predictions_2_inputs*100000)\n",
    "print(y_new*100000)"
   ]
  },
  {
   "attachments": {
    "2%20Input%20and%202%20Output%20W&D%20NN%20topology.PNG": {
     "image/png": "[encoded data removed]"
    }
   },
   "cell_type": "markdown",
   "metadata": {},
   "source": [
    "### 3. Wide & Deep NN Architecture with 2 inputs and 2 outputs\n",
    "\n",
    "We can also use 2 outputs, the use cases are highlighted in the book, however for our uses, we will use it as a regularization technique, where we have 1 main output and an auxilary output(Use for regularization)\n",
    "\n",
    "We will incorparate, loss_weights, when we compile the model\n",
    "\n",
    "\n",
    "![2%20Input%20and%202%20Output%20W&D%20NN%20topology.PNG](attachment:2%20Input%20and%202%20Output%20W&D%20NN%20topology.PNG)\n"
   ]
  },
  {
   "cell_type": "code",
   "execution_count": null,
   "metadata": {},
   "outputs": [],
   "source": [
    "input_A =Input(shape = X_train_A.shape[1:], name = \"Wide_Path\") #Input Layer B\n",
    "input_B =Input(shape = X_train_B.shape[1:], name = \"Deep_Path\") # Input Layer B\n",
    "hidden_1 = Dense(units = 60, activation = 'relu')(input_B) #Hidden Layer 1\n",
    "hidden_2 = Dense(units = 30, activation = 'relu')(hidden_1) #Hidden Layer 1\n",
    "concat = Concatenate()([input_A, hidden_2]) #Concatenation Layer \n",
    "aux_output = Dense(units = 1, name = \"Auxilary_Output\")(hidden_2)\n",
    "output = Dense(units = 1, name = \"Main_Output\")(concat) # Output Layer\n",
    "model_4 = Model(inputs = [input_A, input_B], outputs = [output, aux_output])\n",
    "model_4.summary()"
   ]
  },
  {
   "cell_type": "code",
   "execution_count": null,
   "metadata": {},
   "outputs": [],
   "source": [
    "# Compile the model\n",
    "from tensorflow.keras.optimizers import SGD\n",
    "model_4.compile(loss = 'mse', loss_weights = [0.9, 0.1],  optimizer = SGD(lr = 1e-3)) # Give the Main Path larger weights"
   ]
  },
  {
   "cell_type": "code",
   "execution_count": null,
   "metadata": {},
   "outputs": [],
   "source": [
    "# Train the model\n",
    "history_4 = model_4.fit(\n",
    "[X_train_A, X_train_B], [y_train, y_train], epochs=50,\n",
    "validation_data=([X_valid_A, X_valid_B], [y_valid, y_valid]))"
   ]
  },
  {
   "cell_type": "code",
   "execution_count": null,
   "metadata": {},
   "outputs": [],
   "source": [
    "pd.DataFrame(history_4.history).plot(figsize = (8,5))\n",
    "plt.grid(True)\n",
    "plt.xlabel(\"Epochs\")\n",
    "plt.title(\"2 Input and 2 outputs W&D NN Performance Plots\")\n",
    "plt.show()"
   ]
  },
  {
   "cell_type": "code",
   "execution_count": null,
   "metadata": {},
   "outputs": [],
   "source": [
    "X_test_A_new, X_new_A = X_test_A[5:], X_test_A[:5]\n",
    "X_test_B_new, X_new_B = X_test_B[5:], X_test_B[:5]\n",
    "y_new, y_test_new = y_test[:5], y_test[5:]\n",
    "\n",
    "total_loss, main_loss, aux_loss = model_4.evaluate([X_test_A_new,X_test_B_new], [y_test_new, y_test_new])"
   ]
  },
  {
   "cell_type": "code",
   "execution_count": null,
   "metadata": {},
   "outputs": [],
   "source": [
    "# Lets make some predictions\n",
    "\n",
    "y_pred_main, y_pred_aux = model_4.predict([X_new_A, X_new_B])\n",
    "\n",
    "print(y_pred_main*100000)\n",
    "print(y_new*100000)"
   ]
  },
  {
   "cell_type": "code",
   "execution_count": null,
   "metadata": {},
   "outputs": [],
   "source": [
    "# Auxilary Predictions\n",
    "print( y_pred_aux*100000)"
   ]
  },
  {
   "cell_type": "markdown",
   "metadata": {},
   "source": [
    "##  How to save a trained model\n",
    "\n",
    "We use 3 ways to save a model.\n",
    "\n",
    "1. We can use the `save(name_of_model.h5)` method to save the model, which will save the parameters for each layer.\n",
    "   The `load_model(name_of_model.h5)` mothod to load the model and use it.\n",
    "   \n",
    "   \n",
    "2. We can use Callbacks to save checkpoints during training. The `fit()` method takes a callback argument, which is a list of  \n",
    "   objects.\n",
    "   \n",
    "   a.) So first isto create an object of the ModelCheckpoint class, and specify `save_best_only = True`, to use the validation set to save the best model.\n",
    "   b.) The ModelCheckpoint class is from the callbacks module in the Keras API\n",
    "   \n",
    "   \n",
    "3. We can also use the EarlyStopping class to stop training after a certain nnumber of epochs, if there is no improvement in the validation loss"
   ]
  },
  {
   "cell_type": "code",
   "execution_count": null,
   "metadata": {},
   "outputs": [],
   "source": [
    "# Lets save the model\n",
    "\n",
    "from tensorflow.keras.models import load_model\n",
    "\n",
    "model_4.save(\"complex_model.h5\") # saving the model"
   ]
  },
  {
   "cell_type": "code",
   "execution_count": null,
   "metadata": {},
   "outputs": [],
   "source": [
    "model_4 = load_model(\"complex_model.h5\") # Load the model"
   ]
  },
  {
   "cell_type": "code",
   "execution_count": null,
   "metadata": {},
   "outputs": [],
   "source": [
    "# Callbacks Section\n",
    "\n",
    "from tensorflow.keras.callbacks import ModelCheckpoint\n",
    "from tensorflow.keras.callbacks import EarlyStopping\n",
    "\n",
    "modelcheckpoints = ModelCheckpoint(\"complex_model.h5\", save_best_only = True)\n",
    "\n",
    "# We have to call the ft method again to save checkpoints\n",
    "\n",
    "history_4 = model_4.fit(\n",
    "[X_train_A, X_train_B], [y_train, y_train], epochs=50,\n",
    "validation_data=([X_valid_A, X_valid_B], [y_valid, y_valid]), callbacks = [modelcheckpoints])"
   ]
  },
  {
   "cell_type": "markdown",
   "metadata": {},
   "source": [
    "# Tuning Hyperparamters\n",
    "\n",
    "One of the drawbacks of NNs, is their flexibility, since one can build any imaginable archetetcure, and a simple MLP can have any number of layers or number of neutrons.\n",
    "\n",
    "One way to fine tune hyperparameters of a NN is to use GridSearchCV or RandomizedSearchCV. RandomizedSearchCV is usually preferred over GridSearchCV.\n",
    "\n",
    "We do the above, by wrapping the Keras model so that it mimics a Scikit Learn regressor.\n",
    "\n",
    "\n",
    "1. First you build a function, that will build and compile the model, it can be using the `Sequential` API or the `Functional` API and get a list of hyperparameters as arguments to the function\n",
    "\n",
    "2. Next, create an object of the `tensorflow.keras.wrappers.scikit_learn.KerasRegressor` class, where our function will be the argument to this object. This will be used to wrap the model in the wrapper.\n",
    "\n",
    "3. We can then call the `.fit()` method, as usual for a Keras Model, and also the `.score()` method to the MSE score, and even make predictions using `.predict()` method.\n",
    "\n",
    "4. Now we can list the hyperparemeters we want to tune, in a dictionary, where the key is the name of arguments used in our model builder, as the values will be a list of values, or a distribution of values.\n",
    "\n",
    "There are other techniques that use Python Libraries to optimise Hyperparameters of your model. These are listed in the book."
   ]
  },
  {
   "cell_type": "code",
   "execution_count": null,
   "metadata": {},
   "outputs": [],
   "source": [
    "# Lets tune some hyperparameters\n",
    "\n",
    "#Load the model\n",
    "model_4 = load_model(\"complex_model.h5\")"
   ]
  },
  {
   "cell_type": "code",
   "execution_count": null,
   "metadata": {},
   "outputs": [],
   "source": [
    "# lets practice making the function to build and compile the model\n",
    "\n",
    "from tensorflow.keras.optimizers import SGD\n",
    "from tensorflow.keras.losses import MeanSquaredError\n",
    "\n",
    "loss = MeanSquaredError()\n",
    "\n",
    "def build_compile(n_hidden_layers = 3 , n_neurons = 100, activation = \"relu\", learning_rate =1e-3, input_shape = Input_shape):\n",
    "    new_model = Sequential()\n",
    "    new_model.add((Dense(units = 30, activation = 'relu', input_shape = Input_shape)))\n",
    "    # We will need a for loop to add the Dense Layers\n",
    "    for i in range(n_hidden_layers):\n",
    "        new_model.add(Dense(units = n_neurons, activation = activation))\n",
    "    new_model.add(Dense(units = 1))\n",
    "    new_model.summary()\n",
    "    new_model.compile(loss = \"mse\", optimizer = SGD(lr = learning_rate))\n",
    "    \n",
    "    return new_model\n",
    "        "
   ]
  },
  {
   "cell_type": "code",
   "execution_count": null,
   "metadata": {},
   "outputs": [],
   "source": [
    "from tensorflow.keras.wrappers.scikit_learn import KerasRegressor\n",
    "\n",
    "keras_reg = KerasRegressor(build_compile)"
   ]
  },
  {
   "cell_type": "code",
   "execution_count": null,
   "metadata": {},
   "outputs": [],
   "source": [
    "# Lets train the model\n",
    "from tensorflow.keras.callbacks import ModelCheckpoint\n",
    "from tensorflow.keras.callbacks import EarlyStopping\n",
    "earlystop = EarlyStopping(patience = 15, restore_best_weights = True)\n",
    "model_checkpoints = ModelCheckpoint(\"new_model.h5\", save_best_only = True)\n",
    "history_new = keras_reg.fit(X_train, y_train, epochs = 100, validation_data = (X_valid, y_valid), callbacks =[model_checkpoints, earlystop])"
   ]
  },
  {
   "cell_type": "code",
   "execution_count": null,
   "metadata": {},
   "outputs": [],
   "source": [
    "pd.DataFrame(history_new.history).plot(figsize = (10,5))\n",
    "plt.title(\"New Regression Scikit Learn Wrapper Model\")\n",
    "plt.xlabel(\"Epochs\")\n",
    "plt.ylabel(\"Training and Validation Losses\")\n",
    "plt.grid(True)\n",
    "plt.show()"
   ]
  },
  {
   "cell_type": "code",
   "execution_count": null,
   "metadata": {},
   "outputs": [],
   "source": [
    "# Now lets fine tune hyperparameters using RandomizedSearchCV\n",
    "\n",
    "from sklearn.model_selection import RandomizedSearchCV\n",
    "from scipy.stats import reciprocal\n",
    "\n",
    "# Get the parameters we want distributions of parameters\n",
    "\n",
    "# The parameter distribution argument is a dictionary or a list of dicts(HAHA!)\n",
    "\n",
    "param_dist = {\n",
    "    \"n_hidden_layers\": [1,2,3,4,5], # Number of hidden layers\n",
    "   \"n_neurons\" : np.arange(2, 103), # Number of neurons\n",
    "    \"learning_rate\" : reciprocal(3e-4, 3e-2) #reciprocal Distribution \n",
    "}\n",
    "\n",
    "#Create an object of the RandomizedSearchCV class\n",
    "\n",
    "rnd_search_cv = RandomizedSearchCV(keras_reg, param_dist,n_iter = 10, cv = 5 )\n",
    "\n",
    "rnd_search_cv.fit(X_train, y_train, epochs = 100, validation_data = (X_valid, y_valid), callbacks =[model_checkpoints, earlystop])\n"
   ]
  },
  {
   "cell_type": "code",
   "execution_count": null,
   "metadata": {},
   "outputs": [],
   "source": [
    "# Lets get the best parameters from the cross validation search\n",
    "\n",
    "rnd_search_cv.best_params_"
   ]
  },
  {
   "cell_type": "code",
   "execution_count": null,
   "metadata": {},
   "outputs": [],
   "source": [
    "# Lets save the model with the best hyperparameters\n",
    "\n",
    "new_best_model = rnd_search_cv.best_estimator_.model\n",
    "new_best_model.save(\"new_bestModel.h5\")"
   ]
  },
  {
   "cell_type": "markdown",
   "metadata": {},
   "source": [
    "## Chapter 10 Exercises"
   ]
  },
  {
   "cell_type": "markdown",
   "metadata": {},
   "source": [
    "#### Question 3\n",
    "\n",
    "Why is it generally preferable to use a Logistic Regression\n",
    "classifier rather than a classical Perceptron (i.e., a single layer of\n",
    "threshold logic units trained using the Perceptron training\n",
    "algorithm)? How can you tweak a Perceptron to make it equivalent\n",
    "to a Logistic Regression classifier"
   ]
  },
  {
   "cell_type": "markdown",
   "metadata": {},
   "source": [
    "Logistic Regression is preferred to Classical Percepton, because the output of a logistic regression classifier is a class probablity, where as for a perceptron classifier, they make predictions based on a hard threshold. Similarly, Perceptron classifiers, cannot make out complex patterns.\n",
    "\n",
    "So you can tweak the perceptron, by adding or stacking mulitple perceptrons to have a Multu-layered Perceptron(MLP)."
   ]
  },
  {
   "cell_type": "markdown",
   "metadata": {},
   "source": [
    "#### Question 4\n",
    "\n",
    "Why was the logistic activation function a key ingredient in\n",
    "training the first MLPs"
   ]
  },
  {
   "cell_type": "markdown",
   "metadata": {},
   "source": [
    "The authors initially used the step function as an activation function. They changed this to the logistic function, because, when using a step function, there are flat segemnts presented, which had a zero gradient, so there was nothing to work with. With the logistic function, had a well-defined non-zero derivative everywhere, so the weights could be adjusted with each gradient step.\n"
   ]
  },
  {
   "cell_type": "markdown",
   "metadata": {},
   "source": [
    "#### Question 5\n",
    "\n",
    "Name three popular activation functions. Can you draw them?"
   ]
  },
  {
   "cell_type": "markdown",
   "metadata": {},
   "source": [
    "#### List of Activation Function\n",
    "\n",
    "1. Hyperbolic Tangent Function\n",
    "2. ReLU (Rectified Linear Unit)\n",
    "3. Sigmoid Function (Logistic Function)\n",
    "4. Adam (Not mentioned in Book, found on Keras API)\n",
    "5. ELU (Exponential Linear Unit)"
   ]
  },
  {
   "cell_type": "code",
   "execution_count": null,
   "metadata": {},
   "outputs": [],
   "source": [
    "def sigmoid(z):\n",
    "    return 1 / (1 + np.exp(-z))\n",
    "\n",
    "def relu(z):\n",
    "    return np.maximum(0, z)\n",
    "\n",
    "def derivative(f, z, eps=0.000001):\n",
    "    return (f(z + eps) - f(z - eps))/(2 * eps)\n",
    "\n",
    "def elu(z):\n",
    "    return np.maximum(0, np.exp(z))\n"
   ]
  },
  {
   "cell_type": "code",
   "execution_count": null,
   "metadata": {},
   "outputs": [],
   "source": [
    "# Lets plot the functions and their Derivatives\n",
    "\n",
    "#Create Z axis\n",
    "\n",
    "z = np.linspace(-5, 5, 200)\n",
    "plt.figure(figsize=(11,8))\n",
    "\n",
    "# Functions\n",
    "plt.plot(z, np.tanh(z), \"r\", linewidth = 2,label = \"tanh\")\n",
    "plt.plot(z, relu(z), \"m\", linewidth=2, label=\"RELU\")\n",
    "plt.plot(z, sigmoid(z), \"g--\", linewidth=2, label=\"Sigmoid\")\n",
    "plt.plot(z, elu(z), \"b\", linewidth=2, label=\"ELU\")\n",
    "plt.grid(True)\n",
    "plt.legend(loc=\"center right\", fontsize=14)\n",
    "plt.title(\"Activation functions\", fontsize=14)\n",
    "plt.axis([-5, 5, -1.2, 1.2])\n",
    "plt.show()\n"
   ]
  },
  {
   "cell_type": "code",
   "execution_count": null,
   "metadata": {},
   "outputs": [],
   "source": [
    "# The derivatives\n",
    "plt.figure(figsize = (11, 8))\n",
    "plt.plot(z, derivative(np.sign, z), \"r-\", linewidth=1, label=\"Step\")\n",
    "plt.plot(0, 0, \"ro\", markersize=5)\n",
    "plt.plot(0, 0, \"rx\", markersize=10)\n",
    "plt.plot(z, derivative(sigmoid, z), \"g--\", linewidth=2, label=\"Sigmoid\")\n",
    "plt.plot(z, derivative(np.tanh, z), \"r\", linewidth=2, label=\"Tanh\")\n",
    "plt.plot(z, derivative(relu, z), \"m.\", linewidth=2, label=\"ReLU\")\n",
    "plt.grid(True)\n",
    "plt.plot(z, derivative(elu, z), \"b\", linewidth=2, label=\"ELU\")\n",
    "plt.grid(True)\n",
    "plt.legend(loc=\"center right\", fontsize=14)\n",
    "plt.title(\"Derivative of Activation functions\", fontsize=14)\n",
    "plt.axis([-5, 5, -1.2, 1.2])\n",
    "plt.show()"
   ]
  },
  {
   "cell_type": "markdown",
   "metadata": {},
   "source": [
    "#### Question 6\n",
    "\n",
    "Suppose you have an MLP composed of one input layer with 10\n",
    "passthrough neurons, followed by one hidden layer with 50\n",
    "artificial neurons, and finally one output layer with 3 artificial\n",
    "neurons. All artificial neurons use the ReLU activation function"
   ]
  },
  {
   "cell_type": "markdown",
   "metadata": {},
   "source": [
    "a.) What is the shape of the input matrix X?"
   ]
  },
  {
   "cell_type": "markdown",
   "metadata": {},
   "source": [
    "The Input Matrix will have a size of (10,) (10 columns) (m x 10)"
   ]
  },
  {
   "cell_type": "markdown",
   "metadata": {},
   "source": [
    "b.) What are the shapes of the hidden layer’s weight vector\n",
    "Wh and its bias vector bh?"
   ]
  },
  {
   "cell_type": "markdown",
   "metadata": {},
   "source": [
    "The Hidden Layers weight vector will Wh = (10, 50) and the bias vector Bh = (50, )"
   ]
  },
  {
   "cell_type": "markdown",
   "metadata": {},
   "source": [
    "c.) What are the shapes of the output layer’s weight vector\n",
    "W and its bias vector b ?"
   ]
  },
  {
   "cell_type": "markdown",
   "metadata": {},
   "source": [
    "The output layer will have a weight matrix Wo = (50, 3), bias vector of 3"
   ]
  },
  {
   "cell_type": "markdown",
   "metadata": {},
   "source": [
    "d.) What is the shape of the network’s output matrix Y?"
   ]
  },
  {
   "cell_type": "markdown",
   "metadata": {},
   "source": [
    "The shape of the network’s output matrix Y is m × 3. where m is the batch size"
   ]
  },
  {
   "cell_type": "markdown",
   "metadata": {},
   "source": [
    "e.) Write the equation that computes the network’s output\n",
    "matrix Y as a function of X, W , b , W , and b ."
   ]
  },
  {
   "cell_type": "markdown",
   "metadata": {},
   "source": [
    "Y* = ReLU(ReLU(X W + b ) W + b ). Recall that the\n",
    "ReLU function just sets every negative number in the\n",
    "matrix to zero. Also note that when you are adding a bias\n",
    "vector to a matrix, it is added to every single row in the\n",
    "matrix, which is called broadcasting."
   ]
  },
  {
   "cell_type": "markdown",
   "metadata": {},
   "source": [
    "#### Quetion 7\n",
    "\n",
    "How many neurons do you need in the output layer if you want to\n",
    "classify email into spam or ham? What activation function should\n",
    "you use in the output layer? If instead you want to tackle MNIST,\n",
    "how many neurons do you need in the output layer, and which\n",
    "activation function should you use? What about for getting your\n",
    "network to predict housing prices, as in Chapter 2?"
   ]
  },
  {
   "cell_type": "markdown",
   "metadata": {},
   "source": [
    "You will need 1 neuron in the output layer, an activation function on the output layer would be `binary_cross_entropy` for an email classifier problem.\n",
    "\n",
    "If the MNIST dataset, is in question, then we would use 10 neurons in the output layer, one per class, and the activation function would be `sparse_crossentropy`\n",
    "\n",
    "For a regression problems,we would use 1 output neuron, and no activation function, so that our network outputs values without being bound to a range.\n",
    "\n",
    "##### Book Answer\n",
    "\n",
    "To classify email into spam or ham, you just need one neuron in\n",
    "the output layer of a neural network—for example, indicating the\n",
    "probability that the email is spam. You would typically use the\n",
    "logistic activation function in the output layer when estimating a probability. If instead you want to tackle MNIST, you need 10 neurons in the output layer, and you must replace the logistic\n",
    "function with the softmax activation function, which can handle\n",
    "multiple classes, outputting one probability per class. If you want\n",
    "your neural network to predict housing prices like in Chapter 2,\n",
    "then you need one output neuron, using no activation function at\n",
    "all in the output layer"
   ]
  },
  {
   "cell_type": "markdown",
   "metadata": {},
   "source": [
    "#### Question 8\n",
    "\n",
    "What is backpropagation and how does it work? What is the\n",
    "difference between backpropagation and reverse-mode autodiff?\n",
    "\n",
    "Backpropagation is the process, when the loss is propoagated backwards in a neural network, in order for weight connections to be updatedusing a gradient step. In this process, weight connections linked to lower error would be streghthened and weight connections linked to a high error, would be weakened, with an end goal to converge at a net low loss.\n",
    "\n",
    "Reverse-mode autodiff and backpropagation are the same thing\n",
    "\n",
    "##### Book Answer:\n",
    "\n",
    "Backpropagation is a technique used to train artificial neural\n",
    "networks. It first computes the gradients of the cost function with\n",
    "regard to every model parameter (all the weights and biases), then\n",
    "it performs a Gradient Descent step using these gradients. This\n",
    "backpropagation step is typically performed thousands or millions\n",
    "of times, using many training batches, until the model parameters\n",
    "converge to values that (hopefully) minimize the cost function. To\n",
    "compute the gradients, backpropagation uses reverse-mode\n",
    "autodiff (although it wasn’t called that when backpropagation was\n",
    "invented, and it has been reinvented several times). Reverse-mode\n",
    "autodiff performs a forward pass through a computation graph,\n",
    "computing every node’s value for the current training batch, and\n",
    "then it performs a reverse pass, computing all the gradients at once\n",
    "(see Appendix D for more details). So what’s the difference? Well,\n",
    "backpropagation refers to the whole process of training an artificial\n",
    "neural network using multiple backpropagation steps, each of\n",
    "which computes gradients and uses them to perform a Gradient\n",
    "Descent step. In contrast, reverse-mode autodiff is just a technique\n",
    "to compute gradients efficiently, and it happens to be used by\n",
    "backpropagation."
   ]
  },
  {
   "cell_type": "markdown",
   "metadata": {},
   "source": [
    "#### Question 9\n",
    "\n",
    "Can you list all the hyperparameters you can tweak in a basic\n",
    "MLP? If the MLP overfits the training data, how could you tweak\n",
    "these hyperparameters to try to solve the problem"
   ]
  },
  {
   "cell_type": "markdown",
   "metadata": {},
   "source": [
    "Here is a list of all the hyperparameters you can tweak in a basic\n",
    "MLP: the number of hidden layers, the number of neurons in each\n",
    "hidden layer, and the activation function used in each hidden layer\n",
    "and in the output layer. In general, the ReLU activation function\n",
    "(or one of its variants; see Chapter 11) is a good default for the\n",
    "hidden layers. For the output layer, in general you will want the logistic activation function for binary classification, the softmax activation function for multiclass classification, or no activation\n",
    "function for regression.\n",
    "If the MLP overfits the training data, you can try reducing the\n",
    "number of hidden layers and reducing the number of neurons per\n",
    "hidden layer."
   ]
  },
  {
   "cell_type": "markdown",
   "metadata": {},
   "source": [
    "#### Question 10\n",
    "\n",
    "Train a deep MLP on the MNIST dataset (you can load it using\n",
    "keras.datasets.mnist.load_data(). See if you can get over\n",
    "98% precision. Try searching for the optimal learning rate by using\n",
    "the approach presented in this chapter (i.e., by growing the learning\n",
    "rate exponentially, plotting the error, and finding the point where\n",
    "the error shoots up). Try adding all the bells and whistles—save\n",
    "checkpoints, use early stopping, and plot learning curves using\n",
    "TensorBoard."
   ]
  },
  {
   "cell_type": "code",
   "execution_count": null,
   "metadata": {},
   "outputs": [],
   "source": [
    "(X_train_full, y_train_full), (X_test, y_test) = keras.datasets.mnist.load_data()"
   ]
  },
  {
   "cell_type": "code",
   "execution_count": null,
   "metadata": {},
   "outputs": [],
   "source": [
    "X_train_full.shape"
   ]
  },
  {
   "cell_type": "code",
   "execution_count": null,
   "metadata": {},
   "outputs": [],
   "source": [
    "X_test.shape"
   ]
  },
  {
   "cell_type": "code",
   "execution_count": null,
   "metadata": {},
   "outputs": [],
   "source": [
    "y_train_full.shape"
   ]
  },
  {
   "cell_type": "code",
   "execution_count": null,
   "metadata": {},
   "outputs": [],
   "source": [
    "y_test.shape"
   ]
  },
  {
   "cell_type": "code",
   "execution_count": null,
   "metadata": {},
   "outputs": [],
   "source": [
    "from sklearn.model_selection import train_test_split\n",
    "X_train, X_valid, y_train, y_valid = train_test_split(X_train_full, y_train_full, test_size = 0.1, random_state = 42)"
   ]
  },
  {
   "cell_type": "code",
   "execution_count": null,
   "metadata": {},
   "outputs": [],
   "source": [
    "X_train.shape"
   ]
  },
  {
   "cell_type": "code",
   "execution_count": null,
   "metadata": {},
   "outputs": [],
   "source": [
    "X_valid.shape"
   ]
  },
  {
   "cell_type": "code",
   "execution_count": null,
   "metadata": {},
   "outputs": [],
   "source": [
    "y_valid.shape"
   ]
  },
  {
   "cell_type": "code",
   "execution_count": null,
   "metadata": {},
   "outputs": [],
   "source": [
    "y_train.shape"
   ]
  },
  {
   "cell_type": "code",
   "execution_count": null,
   "metadata": {},
   "outputs": [],
   "source": [
    "X_train[0]\n",
    "some_digit = X_train[0].reshape(28, 28)\n",
    "plt.imshow(some_digit, cmap = \"binary\")"
   ]
  },
  {
   "cell_type": "code",
   "execution_count": null,
   "metadata": {},
   "outputs": [],
   "source": [
    "print(y_train[0])"
   ]
  },
  {
   "cell_type": "code",
   "execution_count": null,
   "metadata": {},
   "outputs": [],
   "source": [
    "y_train[0].dtype"
   ]
  },
  {
   "cell_type": "code",
   "execution_count": null,
   "metadata": {},
   "outputs": [],
   "source": [
    "X_valid, X_train = X_valid/255.0, X_train/255.0 # We are dividing by 255.0 to scale our pixel values to a range between 0-1and make them floats"
   ]
  },
  {
   "cell_type": "code",
   "execution_count": null,
   "metadata": {},
   "outputs": [],
   "source": [
    "sns.distplot(y_train)"
   ]
  },
  {
   "cell_type": "code",
   "execution_count": null,
   "metadata": {},
   "outputs": [],
   "source": [
    "sns.distplot(y_test)"
   ]
  },
  {
   "cell_type": "code",
   "execution_count": null,
   "metadata": {},
   "outputs": [],
   "source": [
    "sns.distplot(y_valid)"
   ]
  },
  {
   "cell_type": "code",
   "execution_count": null,
   "metadata": {},
   "outputs": [],
   "source": [
    "# Lets show an image from every class and together with its label:\n",
    "fig = plt.figure(figsize = (15,15))\n",
    "\n",
    "for i in range(0, 50, 1):\n",
    "    ax =fig.add_subplot(10, 5, i+1)\n",
    "    image = plt.imshow(X_train[i], cmap = \"binary\")\n",
    "    ax.set_title(y_train[i])\n",
    "\n",
    "fig.subplots_adjust(hspace=0.6)"
   ]
  },
  {
   "cell_type": "code",
   "execution_count": null,
   "metadata": {},
   "outputs": [],
   "source": [
    "input_shape = X_train.shape[1:]\n",
    "print(input_shape)"
   ]
  },
  {
   "cell_type": "code",
   "execution_count": null,
   "metadata": {},
   "outputs": [],
   "source": [
    "from tensorflow.keras.layers import Input\n",
    "from tensorflow.keras import Model\n",
    "from tensorflow.keras.layers import Flatten\n",
    "input_mnist = Input(shape = input_shape)\n",
    "flatten = Flatten()(input_mnist)\n",
    "hidden_1 = Dense(units = 100, activation = 'relu')(flatten)\n",
    "hidden_2 = Dense(units = 75, activation = 'relu')(hidden_1)\n",
    "hidden_3 = Dense(units = 50, activation = 'relu')(hidden_2)\n",
    "hidden_4 = Dense(units = 75, activation = 'relu')(hidden_3)\n",
    "output = Dense(units = 10, activation = \"softmax\")(hidden_4)\n",
    "mnist_model = Model(inputs = [input_mnist], outputs = [output])\n",
    "mnist_model.summary()"
   ]
  },
  {
   "cell_type": "code",
   "execution_count": null,
   "metadata": {},
   "outputs": [],
   "source": [
    "import os\n",
    "run_index = 3 # increment this at every run\n",
    "run_logdir = os.path.join(os.curdir, \"my_mnist_logs\", \"run_{:03d}\".format(run_index))\n",
    "run_logdir"
   ]
  },
  {
   "cell_type": "code",
   "execution_count": null,
   "metadata": {},
   "outputs": [],
   "source": [
    "# Great, the model is built. Now lets compile it nd train it.\n",
    "# Also get Tensorboard visualisation\n",
    "from tensorflow.keras.optimizers import SGD\n",
    "from tensorflow.keras.callbacks import ModelCheckpoint\n",
    "from tensorflow.keras.callbacks import TensorBoard\n",
    "from tensorflow.keras.callbacks import ModelCheckpoint\n",
    "from tensorflow.keras.callbacks import EarlyStopping\n",
    "\n",
    "modelcheckpoint = ModelCheckpoint(\"Original_mnist.h5\",save_best_only = True)\n",
    "earlystop = EarlyStopping(patience = 20, restore_best_weights = True)\n",
    "model_checkpoints = ModelCheckpoint(\"mnist_model_2.h5\", save_best_only = True)\n",
    "tensorboard_cb = TensorBoard(run_logdir)\n",
    "mnist_model.compile(loss = \"sparse_categorical_crossentropy\", optimizer = SGD(lr=3e-1), metrics = ['accuracy'])\n",
    "history_mnist = mnist_model.fit(X_train, y_train, epochs = 150, validation_data = [X_valid, y_valid], callbacks = [modelcheckpoint, earlystop, tensorboard_cb])\n"
   ]
  },
  {
   "cell_type": "code",
   "execution_count": null,
   "metadata": {},
   "outputs": [],
   "source": [
    "#Use the line below in directory cmd\n",
    "%load_ext tensorboard\n",
    "%tensorboard --logdir=./my_mnist_logs --port=6006 "
   ]
  },
  {
   "cell_type": "code",
   "execution_count": null,
   "metadata": {},
   "outputs": [],
   "source": [
    "pd.DataFrame(history_mnist.history).plot(figsize=(8,5))\n",
    "plt.grid(True)\n",
    "plt.xlabel(\"Epochs\")\n",
    "plt.ylabel(\"Loss/Accuracy\")\n",
    "plt.title(\"MNIST Model Performance Plots\")\n",
    "plt.show()"
   ]
  },
  {
   "cell_type": "code",
   "execution_count": null,
   "metadata": {},
   "outputs": [],
   "source": [
    "# Lets plot the Loss functions:\n",
    "\n",
    "pd.DataFrame(history_mnist.history).plot(figsize = (8, 5))\n",
    "plt.grid(True)\n",
    "plt.title(\"MNIST Model Performance\")\n",
    "plt.xlabel(\"Epochs\")\n",
    "plt.ylabel(\"Loss\")\n",
    "plt.show()"
   ]
  },
  {
   "cell_type": "code",
   "execution_count": null,
   "metadata": {},
   "outputs": [],
   "source": [
    "X_new, X_test_new = X_test[:5], X_test[5:]\n",
    "y_new, y_test_new = y_test[:5], y_test[5:]\n",
    "mnist_model.evaluate(X_test_new, y_test_new)"
   ]
  },
  {
   "cell_type": "code",
   "execution_count": null,
   "metadata": {},
   "outputs": [],
   "source": [
    "predictions = mnist_model.predict(X_new)\n",
    "print(predictions)\n",
    "print(y_new)"
   ]
  },
  {
   "cell_type": "markdown",
   "metadata": {},
   "source": [
    "##### Tune some Hyperparameters\n",
    "\n",
    "Lets tune the hyperparamters using the RandomizedSearchCV\n",
    "\n",
    "- Parameter: learning rate\n",
    "- No of Hidden layers \n",
    "- No of Neurons per layer"
   ]
  },
  {
   "cell_type": "code",
   "execution_count": null,
   "metadata": {},
   "outputs": [],
   "source": [
    "from sklearn.model_selection import RandomizedSearchCV\n",
    "from tensorflow.keras.wrappers.scikit_learn import KerasClassifier"
   ]
  },
  {
   "cell_type": "code",
   "execution_count": null,
   "metadata": {},
   "outputs": [],
   "source": [
    "# Build function to wrap and do RandomizedSearch CV\n",
    "\n",
    "def build_compile(n_hidden_layers = 3 , n_neurons = 100, activation = \"relu\", learning_rate =1e-3, input_shape = [28, 28]):\n",
    "    new_model = Sequential()\n",
    "    new_model.add((Flatten(input_shape = input_shape)))\n",
    "    # We will need a for loop to add the Dense Layers\n",
    "    for i in range(n_hidden_layers):\n",
    "        new_model.add(Dense(units = n_neurons, activation = activation))\n",
    "    new_model.add(Dense(units = 10, activation = \"softmax\"))\n",
    "    new_model.summary()\n",
    "    new_model.compile(loss = \"sparse_categorical_crossentropy\", optimizer = SGD(lr = learning_rate), metrics = ['accuracy'])\n",
    "    \n",
    "    return new_model"
   ]
  },
  {
   "cell_type": "code",
   "execution_count": null,
   "metadata": {},
   "outputs": [],
   "source": [
    "keras_classifier = KerasClassifier(build_compile)"
   ]
  },
  {
   "cell_type": "code",
   "execution_count": null,
   "metadata": {},
   "outputs": [],
   "source": [
    "from tensorflow.keras.callbacks import ModelCheckpoint\n",
    "from tensorflow.keras.callbacks import EarlyStopping\n",
    "earlystop = EarlyStopping(patience = 15, restore_best_weights = True)\n",
    "model_checkpoints = ModelCheckpoint(\"mnist_model_2.h5\", save_best_only = True)"
   ]
  },
  {
   "cell_type": "code",
   "execution_count": null,
   "metadata": {},
   "outputs": [],
   "source": [
    "# Now lets fine tune hyperparameters using RandomizedSearchCV\n",
    "from scipy.stats import reciprocal\n",
    "\n",
    "\n",
    "# Get the parameters we want distributions of parameters\n",
    "\n",
    "# The parameter distribution argument is a dictionary or a list of dicts(HAHA!)\n",
    "\n",
    "param_dist = {\n",
    "    \"n_hidden_layers\": [1,2,3,4,5], # Number of hidden layers\n",
    "   \"n_neurons\" : np.arange(2, 103), # Number of neurons\n",
    "    \"learning_rate\" : reciprocal(3e-4, 3e-2) #reciprocal Distribution \n",
    "}\n",
    "\n",
    "#Create an object of the RandomizedSearchCV class\n",
    "from tensorflow.keras.optimizers import SGD\n",
    "rnd_search_cv = RandomizedSearchCV(keras_classifier, param_dist,n_iter = 10, cv = 5 )\n",
    "\n",
    "rnd_search_cv.fit(X_train, y_train, epochs = 100, validation_data = (X_valid, y_valid), callbacks =[model_checkpoints, earlystop])\n"
   ]
  },
  {
   "cell_type": "code",
   "execution_count": null,
   "metadata": {},
   "outputs": [],
   "source": [
    "rnd_search_cv.best_params_"
   ]
  },
  {
   "cell_type": "code",
   "execution_count": null,
   "metadata": {},
   "outputs": [],
   "source": [
    "# Get TensorBoard as a callback and Visualise it using it.\n",
    "\n",
    "import os\n",
    "root_logdir = os.path.join(os.curdir, \"my_logs\")\n",
    "def get_run_logdir():\n",
    "    import time\n",
    "    run_id = time.strftime(\"run_%Y_%m_%d-%H_%M_%S\")\n",
    "    return os.path.join(root_logdir, run_id)\n",
    "\n",
    "run_logdir = get_run_logdir()\n",
    "from tensorflow.keras.models import load_model\n",
    "mnist_model = load_model(\"Original_mnist.h5\")\n",
    "\n",
    "new_mnist_history = mnist_model.fit(X_train, y_train, epochs = 100, validation_data = [X_valid, y_valid], callbacks = [tensorboard])\n",
    "\n"
   ]
  },
  {
   "cell_type": "code",
   "execution_count": null,
   "metadata": {},
   "outputs": [],
   "source": [
    "tensorboard --logdir=./my_logs --port=6006"
   ]
  },
  {
   "cell_type": "code",
   "execution_count": null,
   "metadata": {},
   "outputs": [],
   "source": []
  }
 ],
 "metadata": {
  "kernelspec": {
   "display_name": "Python 3",
   "language": "python",
   "name": "python3"
  },
  "language_info": {
   "codemirror_mode": {
    "name": "ipython",
    "version": 3
   },
   "file_extension": ".py",
   "mimetype": "text/x-python",
   "name": "python",
   "nbconvert_exporter": "python",
   "pygments_lexer": "ipython3",
   "version": "3.7.4"
  }
 },
 "nbformat": 4,
 "nbformat_minor": 2
}
